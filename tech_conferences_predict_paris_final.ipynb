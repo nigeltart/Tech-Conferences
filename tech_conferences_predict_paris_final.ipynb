{
 "cells": [
  {
   "cell_type": "markdown",
   "id": "66ab0ea2",
   "metadata": {},
   "source": [
    "# Tech Conferences 2019-2022"
   ]
  },
  {
   "cell_type": "markdown",
   "id": "1a381107",
   "metadata": {},
   "source": [
    "In 2019, I attended my first tech conference - PyCon PL, near Warsaw.<br>\n",
    "My second conference - dotPy, in Paris - was cancelled at the last minute, because of some new virus.<br>\n",
    "This summer, I attended  PyData in London and Euro Python in Dublin.<br>\n",
    "I collected details about the conferences, then rated them for different aspects.<br>\n",
    "\n",
    "This notebook accompanies my lightning talk to Brighton Data Forum (Nov 22), which aims to:\n",
    "- encourage more people to try one\n",
    "- demonstrate the data science (linear regression) process to non specialists\n",
    "- entertain seasoned data scientists with my playful treatment of a laughably small dataset<br>\n",
    "\n",
    "I joke that, \"I'll never know what I missed in Paris...But, with our secret superpowers, <b>let's find out!\"</b> <br><br><br><br>"
   ]
  },
  {
   "cell_type": "code",
   "execution_count": 1,
   "id": "38cdf158",
   "metadata": {},
   "outputs": [],
   "source": [
    "import pandas as pd\n",
    "import numpy as np\n",
    "from sklearn.model_selection import train_test_split\n",
    "from sklearn.linear_model import LinearRegression"
   ]
  },
  {
   "cell_type": "code",
   "execution_count": 2,
   "id": "4954927e",
   "metadata": {},
   "outputs": [],
   "source": [
    "df = pd.read_excel(\"tech_conferences_2019-2022.xlsx\")"
   ]
  },
  {
   "cell_type": "code",
   "execution_count": 3,
   "id": "459ef353",
   "metadata": {},
   "outputs": [
    {
     "data": {
      "text/html": [
       "<div>\n",
       "<style scoped>\n",
       "    .dataframe tbody tr th:only-of-type {\n",
       "        vertical-align: middle;\n",
       "    }\n",
       "\n",
       "    .dataframe tbody tr th {\n",
       "        vertical-align: top;\n",
       "    }\n",
       "\n",
       "    .dataframe thead th {\n",
       "        text-align: right;\n",
       "    }\n",
       "</style>\n",
       "<table border=\"1\" class=\"dataframe\">\n",
       "  <thead>\n",
       "    <tr style=\"text-align: right;\">\n",
       "      <th></th>\n",
       "      <th>name</th>\n",
       "      <th>location</th>\n",
       "      <th>travel_time</th>\n",
       "      <th>start_date</th>\n",
       "      <th>year</th>\n",
       "      <th>month</th>\n",
       "      <th>day</th>\n",
       "      <th>duration</th>\n",
       "      <th>participants</th>\n",
       "      <th>cost</th>\n",
       "      <th>friendly</th>\n",
       "      <th>vegan</th>\n",
       "      <th>inclusive</th>\n",
       "      <th>swag</th>\n",
       "      <th>talks</th>\n",
       "      <th>venue</th>\n",
       "      <th>overall</th>\n",
       "    </tr>\n",
       "  </thead>\n",
       "  <tbody>\n",
       "    <tr>\n",
       "      <th>0</th>\n",
       "      <td>PyCon PL</td>\n",
       "      <td>Warsaw</td>\n",
       "      <td>120</td>\n",
       "      <td>23.8.19</td>\n",
       "      <td>2019</td>\n",
       "      <td>8</td>\n",
       "      <td>5</td>\n",
       "      <td>4.0</td>\n",
       "      <td>250</td>\n",
       "      <td>300</td>\n",
       "      <td>4</td>\n",
       "      <td>2</td>\n",
       "      <td>3</td>\n",
       "      <td>1</td>\n",
       "      <td>3</td>\n",
       "      <td>3</td>\n",
       "      <td>2.666667</td>\n",
       "    </tr>\n",
       "    <tr>\n",
       "      <th>1</th>\n",
       "      <td>dotPy</td>\n",
       "      <td>Paris</td>\n",
       "      <td>4</td>\n",
       "      <td>2.3.20</td>\n",
       "      <td>2020</td>\n",
       "      <td>3</td>\n",
       "      <td>2</td>\n",
       "      <td>0.5</td>\n",
       "      <td>300</td>\n",
       "      <td>100</td>\n",
       "      <td>-</td>\n",
       "      <td>-</td>\n",
       "      <td>-</td>\n",
       "      <td>-</td>\n",
       "      <td>-</td>\n",
       "      <td>-</td>\n",
       "      <td>NaN</td>\n",
       "    </tr>\n",
       "    <tr>\n",
       "      <th>2</th>\n",
       "      <td>PyData</td>\n",
       "      <td>London</td>\n",
       "      <td>2</td>\n",
       "      <td>18.6.22</td>\n",
       "      <td>2022</td>\n",
       "      <td>6</td>\n",
       "      <td>7</td>\n",
       "      <td>2.0</td>\n",
       "      <td>400</td>\n",
       "      <td>250</td>\n",
       "      <td>5</td>\n",
       "      <td>2</td>\n",
       "      <td>4</td>\n",
       "      <td>4</td>\n",
       "      <td>4</td>\n",
       "      <td>5</td>\n",
       "      <td>4.000000</td>\n",
       "    </tr>\n",
       "    <tr>\n",
       "      <th>3</th>\n",
       "      <td>Euro Python</td>\n",
       "      <td>Dublin</td>\n",
       "      <td>11</td>\n",
       "      <td>13.7.22</td>\n",
       "      <td>2022</td>\n",
       "      <td>7</td>\n",
       "      <td>4</td>\n",
       "      <td>3.0</td>\n",
       "      <td>300</td>\n",
       "      <td>80</td>\n",
       "      <td>4</td>\n",
       "      <td>3</td>\n",
       "      <td>5</td>\n",
       "      <td>4</td>\n",
       "      <td>3</td>\n",
       "      <td>5</td>\n",
       "      <td>4.000000</td>\n",
       "    </tr>\n",
       "  </tbody>\n",
       "</table>\n",
       "</div>"
      ],
      "text/plain": [
       "          name location  travel_time start_date  year  month  day  duration  \\\n",
       "0     PyCon PL   Warsaw          120    23.8.19  2019      8    5       4.0   \n",
       "1        dotPy    Paris            4     2.3.20  2020      3    2       0.5   \n",
       "2       PyData   London            2    18.6.22  2022      6    7       2.0   \n",
       "3  Euro Python   Dublin           11    13.7.22  2022      7    4       3.0   \n",
       "\n",
       "   participants  cost friendly vegan inclusive swag talks venue   overall  \n",
       "0           250   300        4     2         3    1     3     3  2.666667  \n",
       "1           300   100        -     -         -    -     -     -       NaN  \n",
       "2           400   250        5     2         4    4     4     5  4.000000  \n",
       "3           300    80        4     3         5    4     3     5  4.000000  "
      ]
     },
     "execution_count": 3,
     "metadata": {},
     "output_type": "execute_result"
    }
   ],
   "source": [
    "df"
   ]
  },
  {
   "cell_type": "code",
   "execution_count": 4,
   "id": "4f9949bf",
   "metadata": {},
   "outputs": [
    {
     "data": {
      "text/plain": [
       "Index(['name', 'location', 'travel_time', 'start_date', 'year', 'month', 'day',\n",
       "       'duration', 'participants', 'cost', 'friendly', 'vegan', 'inclusive',\n",
       "       'swag', 'talks', 'venue', 'overall'],\n",
       "      dtype='object')"
      ]
     },
     "execution_count": 4,
     "metadata": {},
     "output_type": "execute_result"
    }
   ],
   "source": [
    "df.columns # for copy and paste"
   ]
  },
  {
   "cell_type": "code",
   "execution_count": 5,
   "id": "71a634a8",
   "metadata": {},
   "outputs": [],
   "source": [
    "df_full = df # Backup copy"
   ]
  },
  {
   "cell_type": "code",
   "execution_count": 6,
   "id": "199c602d",
   "metadata": {},
   "outputs": [],
   "source": [
    "df.drop(['name', 'location', 'start_date'], axis=1, inplace=True) # drop the non numerical features"
   ]
  },
  {
   "cell_type": "markdown",
   "id": "a5a66b7e",
   "metadata": {},
   "source": [
    "#### Names are suffixed with combinations of the initials of Warsaw, Paris, London and Dublin"
   ]
  },
  {
   "cell_type": "code",
   "execution_count": 7,
   "id": "8bb4895d",
   "metadata": {},
   "outputs": [],
   "source": [
    "df_wld = df.drop(index=1, axis=0) # Drop the Paris row, because there are no ratings"
   ]
  },
  {
   "cell_type": "code",
   "execution_count": 8,
   "id": "27b6cb5c",
   "metadata": {},
   "outputs": [
    {
     "data": {
      "text/html": [
       "<div>\n",
       "<style scoped>\n",
       "    .dataframe tbody tr th:only-of-type {\n",
       "        vertical-align: middle;\n",
       "    }\n",
       "\n",
       "    .dataframe tbody tr th {\n",
       "        vertical-align: top;\n",
       "    }\n",
       "\n",
       "    .dataframe thead th {\n",
       "        text-align: right;\n",
       "    }\n",
       "</style>\n",
       "<table border=\"1\" class=\"dataframe\">\n",
       "  <thead>\n",
       "    <tr style=\"text-align: right;\">\n",
       "      <th></th>\n",
       "      <th>travel_time</th>\n",
       "      <th>year</th>\n",
       "      <th>month</th>\n",
       "      <th>day</th>\n",
       "      <th>duration</th>\n",
       "      <th>participants</th>\n",
       "      <th>cost</th>\n",
       "      <th>friendly</th>\n",
       "      <th>vegan</th>\n",
       "      <th>inclusive</th>\n",
       "      <th>swag</th>\n",
       "      <th>talks</th>\n",
       "      <th>venue</th>\n",
       "      <th>overall</th>\n",
       "    </tr>\n",
       "  </thead>\n",
       "  <tbody>\n",
       "    <tr>\n",
       "      <th>0</th>\n",
       "      <td>120</td>\n",
       "      <td>2019</td>\n",
       "      <td>8</td>\n",
       "      <td>5</td>\n",
       "      <td>4.0</td>\n",
       "      <td>250</td>\n",
       "      <td>300</td>\n",
       "      <td>4</td>\n",
       "      <td>2</td>\n",
       "      <td>3</td>\n",
       "      <td>1</td>\n",
       "      <td>3</td>\n",
       "      <td>3</td>\n",
       "      <td>2.666667</td>\n",
       "    </tr>\n",
       "    <tr>\n",
       "      <th>2</th>\n",
       "      <td>2</td>\n",
       "      <td>2022</td>\n",
       "      <td>6</td>\n",
       "      <td>7</td>\n",
       "      <td>2.0</td>\n",
       "      <td>400</td>\n",
       "      <td>250</td>\n",
       "      <td>5</td>\n",
       "      <td>2</td>\n",
       "      <td>4</td>\n",
       "      <td>4</td>\n",
       "      <td>4</td>\n",
       "      <td>5</td>\n",
       "      <td>4.000000</td>\n",
       "    </tr>\n",
       "    <tr>\n",
       "      <th>3</th>\n",
       "      <td>11</td>\n",
       "      <td>2022</td>\n",
       "      <td>7</td>\n",
       "      <td>4</td>\n",
       "      <td>3.0</td>\n",
       "      <td>300</td>\n",
       "      <td>80</td>\n",
       "      <td>4</td>\n",
       "      <td>3</td>\n",
       "      <td>5</td>\n",
       "      <td>4</td>\n",
       "      <td>3</td>\n",
       "      <td>5</td>\n",
       "      <td>4.000000</td>\n",
       "    </tr>\n",
       "  </tbody>\n",
       "</table>\n",
       "</div>"
      ],
      "text/plain": [
       "   travel_time  year  month  day  duration  participants  cost friendly vegan  \\\n",
       "0          120  2019      8    5       4.0           250   300        4     2   \n",
       "2            2  2022      6    7       2.0           400   250        5     2   \n",
       "3           11  2022      7    4       3.0           300    80        4     3   \n",
       "\n",
       "  inclusive swag talks venue   overall  \n",
       "0         3    1     3     3  2.666667  \n",
       "2         4    4     4     5  4.000000  \n",
       "3         5    4     3     5  4.000000  "
      ]
     },
     "execution_count": 8,
     "metadata": {},
     "output_type": "execute_result"
    }
   ],
   "source": [
    "df_wld"
   ]
  },
  {
   "cell_type": "code",
   "execution_count": 9,
   "id": "67f8dd0e",
   "metadata": {},
   "outputs": [],
   "source": [
    "df_wld_features = df_wld[['travel_time', 'year', 'month', 'day', 'duration', 'participants', 'cost']]"
   ]
  },
  {
   "cell_type": "code",
   "execution_count": 10,
   "id": "5f0f06c3",
   "metadata": {},
   "outputs": [],
   "source": [
    "df_wld_overall = df_wld[['overall']]"
   ]
  },
  {
   "cell_type": "code",
   "execution_count": 11,
   "id": "fefbdb09",
   "metadata": {},
   "outputs": [],
   "source": [
    "df_p = df_full.drop(index=[0,2,3], axis=0) # drop Warsaw, London, Dublin"
   ]
  },
  {
   "cell_type": "code",
   "execution_count": 12,
   "id": "acee8051",
   "metadata": {},
   "outputs": [
    {
     "data": {
      "text/html": [
       "<div>\n",
       "<style scoped>\n",
       "    .dataframe tbody tr th:only-of-type {\n",
       "        vertical-align: middle;\n",
       "    }\n",
       "\n",
       "    .dataframe tbody tr th {\n",
       "        vertical-align: top;\n",
       "    }\n",
       "\n",
       "    .dataframe thead th {\n",
       "        text-align: right;\n",
       "    }\n",
       "</style>\n",
       "<table border=\"1\" class=\"dataframe\">\n",
       "  <thead>\n",
       "    <tr style=\"text-align: right;\">\n",
       "      <th></th>\n",
       "      <th>travel_time</th>\n",
       "      <th>year</th>\n",
       "      <th>month</th>\n",
       "      <th>day</th>\n",
       "      <th>duration</th>\n",
       "      <th>participants</th>\n",
       "      <th>cost</th>\n",
       "      <th>friendly</th>\n",
       "      <th>vegan</th>\n",
       "      <th>inclusive</th>\n",
       "      <th>swag</th>\n",
       "      <th>talks</th>\n",
       "      <th>venue</th>\n",
       "      <th>overall</th>\n",
       "    </tr>\n",
       "  </thead>\n",
       "  <tbody>\n",
       "    <tr>\n",
       "      <th>1</th>\n",
       "      <td>4</td>\n",
       "      <td>2020</td>\n",
       "      <td>3</td>\n",
       "      <td>2</td>\n",
       "      <td>0.5</td>\n",
       "      <td>300</td>\n",
       "      <td>100</td>\n",
       "      <td>-</td>\n",
       "      <td>-</td>\n",
       "      <td>-</td>\n",
       "      <td>-</td>\n",
       "      <td>-</td>\n",
       "      <td>-</td>\n",
       "      <td>NaN</td>\n",
       "    </tr>\n",
       "  </tbody>\n",
       "</table>\n",
       "</div>"
      ],
      "text/plain": [
       "   travel_time  year  month  day  duration  participants  cost friendly vegan  \\\n",
       "1            4  2020      3    2       0.5           300   100        -     -   \n",
       "\n",
       "  inclusive swag talks venue  overall  \n",
       "1         -    -     -     -      NaN  "
      ]
     },
     "execution_count": 12,
     "metadata": {},
     "output_type": "execute_result"
    }
   ],
   "source": [
    "df_p"
   ]
  },
  {
   "cell_type": "code",
   "execution_count": 13,
   "id": "3ef8bec6",
   "metadata": {},
   "outputs": [],
   "source": [
    "df_p_features = df_p[['travel_time', 'year', 'month', 'day', 'duration', 'participants', 'cost']]"
   ]
  },
  {
   "cell_type": "code",
   "execution_count": 14,
   "id": "18fb0a14",
   "metadata": {
    "scrolled": true
   },
   "outputs": [
    {
     "data": {
      "text/html": [
       "<div>\n",
       "<style scoped>\n",
       "    .dataframe tbody tr th:only-of-type {\n",
       "        vertical-align: middle;\n",
       "    }\n",
       "\n",
       "    .dataframe tbody tr th {\n",
       "        vertical-align: top;\n",
       "    }\n",
       "\n",
       "    .dataframe thead th {\n",
       "        text-align: right;\n",
       "    }\n",
       "</style>\n",
       "<table border=\"1\" class=\"dataframe\">\n",
       "  <thead>\n",
       "    <tr style=\"text-align: right;\">\n",
       "      <th></th>\n",
       "      <th>travel_time</th>\n",
       "      <th>year</th>\n",
       "      <th>month</th>\n",
       "      <th>day</th>\n",
       "      <th>duration</th>\n",
       "      <th>participants</th>\n",
       "      <th>cost</th>\n",
       "    </tr>\n",
       "  </thead>\n",
       "  <tbody>\n",
       "    <tr>\n",
       "      <th>1</th>\n",
       "      <td>4</td>\n",
       "      <td>2020</td>\n",
       "      <td>3</td>\n",
       "      <td>2</td>\n",
       "      <td>0.5</td>\n",
       "      <td>300</td>\n",
       "      <td>100</td>\n",
       "    </tr>\n",
       "  </tbody>\n",
       "</table>\n",
       "</div>"
      ],
      "text/plain": [
       "   travel_time  year  month  day  duration  participants  cost\n",
       "1            4  2020      3    2       0.5           300   100"
      ]
     },
     "execution_count": 14,
     "metadata": {},
     "output_type": "execute_result"
    }
   ],
   "source": [
    "df_p_features"
   ]
  },
  {
   "cell_type": "code",
   "execution_count": 15,
   "id": "c81340a0",
   "metadata": {},
   "outputs": [],
   "source": [
    "X_train, X_test, y_train, y_test = train_test_split(df_wld_features, df_wld_overall, test_size=0.33, random_state=0)"
   ]
  },
  {
   "cell_type": "code",
   "execution_count": 16,
   "id": "6fdb5fc5",
   "metadata": {},
   "outputs": [],
   "source": [
    "lm_wld = LinearRegression() "
   ]
  },
  {
   "cell_type": "code",
   "execution_count": 17,
   "id": "856a2fcb",
   "metadata": {},
   "outputs": [
    {
     "data": {
      "text/plain": [
       "LinearRegression()"
      ]
     },
     "execution_count": 17,
     "metadata": {},
     "output_type": "execute_result"
    }
   ],
   "source": [
    "lm_wld.fit (X_train,y_train) # fitting means plotting + 'line of best fit'"
   ]
  },
  {
   "cell_type": "code",
   "execution_count": 18,
   "id": "cdaa22c7",
   "metadata": {},
   "outputs": [],
   "source": [
    "predictions = lm_wld.predict(X_test)"
   ]
  },
  {
   "cell_type": "code",
   "execution_count": 19,
   "id": "6139c2ac",
   "metadata": {},
   "outputs": [
    {
     "data": {
      "text/plain": [
       "array([[3.74076261]])"
      ]
     },
     "execution_count": 19,
     "metadata": {},
     "output_type": "execute_result"
    }
   ],
   "source": [
    "predictions"
   ]
  },
  {
   "cell_type": "markdown",
   "id": "5d34d0e2",
   "metadata": {},
   "source": [
    "Prediction: 3.74     Actual: 4     Not bad!"
   ]
  },
  {
   "cell_type": "code",
   "execution_count": 20,
   "id": "7fbada04",
   "metadata": {},
   "outputs": [],
   "source": [
    "paris_prediction = lm_wld.predict(df_p_features)"
   ]
  },
  {
   "cell_type": "code",
   "execution_count": 21,
   "id": "693281f4",
   "metadata": {},
   "outputs": [
    {
     "name": "stdout",
     "output_type": "stream",
     "text": [
      "Paris would have had an overall rating of:  3.734908203877262\n"
     ]
    }
   ],
   "source": [
    "print ('Paris would have had an overall rating of: ', paris_prediction[0,0])"
   ]
  }
 ],
 "metadata": {
  "kernelspec": {
   "display_name": "Python 3 (ipykernel)",
   "language": "python",
   "name": "python3"
  },
  "language_info": {
   "codemirror_mode": {
    "name": "ipython",
    "version": 3
   },
   "file_extension": ".py",
   "mimetype": "text/x-python",
   "name": "python",
   "nbconvert_exporter": "python",
   "pygments_lexer": "ipython3",
   "version": "3.9.12"
  }
 },
 "nbformat": 4,
 "nbformat_minor": 5
}
